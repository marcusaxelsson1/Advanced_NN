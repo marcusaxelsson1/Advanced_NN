{
  "nbformat": 4,
  "nbformat_minor": 0,
  "metadata": {
    "colab": {
      "provenance": [],
      "gpuType": "T4",
      "authorship_tag": "ABX9TyOP0tsLPz/NAF+1tLq5bg7J",
      "include_colab_link": true
    },
    "kernelspec": {
      "name": "python3",
      "display_name": "Python 3"
    },
    "language_info": {
      "name": "python"
    },
    "accelerator": "GPU"
  },
  "cells": [
    {
      "cell_type": "markdown",
      "metadata": {
        "id": "view-in-github",
        "colab_type": "text"
      },
      "source": [
        "<a href=\"https://colab.research.google.com/github/marcusaxelsson1/Advanced_NN/blob/main/HWC.ipynb\" target=\"_parent\"><img src=\"https://colab.research.google.com/assets/colab-badge.svg\" alt=\"Open In Colab\"/></a>"
      ]
    },
    {
      "cell_type": "code",
      "source": [
        "!pip install --pre deeptrack\n",
        "!pip install --pre deeplay"
      ],
      "metadata": {
        "id": "-czNSlkYvjDD"
      },
      "execution_count": null,
      "outputs": []
    },
    {
      "cell_type": "markdown",
      "source": [
        "### **Getting data from Deeptrack**"
      ],
      "metadata": {
        "id": "xsC4G8hEB8qb"
      }
    },
    {
      "cell_type": "code",
      "execution_count": 3,
      "metadata": {
        "id": "iBaBwXuwujzy"
      },
      "outputs": [],
      "source": [
        "import deeptrack as dt\n",
        "import numpy as np\n",
        "\n",
        "IMAGE_SIZE = 64\n",
        "sequence_length = 10  # Number of frames per sequence\n",
        "MIN_SIZE = 0.5e-6\n",
        "MAX_SIZE = 1.5e-6\n",
        "MAX_VEL = 10  # Maximum velocity. The higher the trickier!\n",
        "MAX_PARTICLES = 3  # Max number of particles in each sequence. The higher the trickier!\n",
        "\n",
        "# Defining properties of the particles\n",
        "particle = dt.Sphere(\n",
        "    intensity=lambda: 10 + 10 * np.random.rand(),\n",
        "    radius=lambda: MIN_SIZE + np.random.rand() * (MAX_SIZE - MIN_SIZE),\n",
        "    position=lambda: IMAGE_SIZE * np.random.rand(2),\n",
        "    vel=lambda: MAX_VEL * np.random.rand(2),\n",
        "    position_unit=\"pixel\",\n",
        ")\n",
        "\n",
        "# Defining an update rule for the particle position\n",
        "def get_position(previous_value, vel):\n",
        "\n",
        "    newv = previous_value + vel\n",
        "    for i in range(2):\n",
        "        if newv[i] > 63:\n",
        "            newv[i] = 63 - np.abs(newv[i] - 63)\n",
        "            vel[i] = -vel[i]\n",
        "        elif newv[i] < 0:\n",
        "            newv[i] = np.abs(newv[i])\n",
        "            vel[i] = -vel[i]\n",
        "    return newv\n",
        "\n",
        "\n",
        "particle = dt.Sequential(particle, position=get_position)\n",
        "\n",
        "# Defining properties of the microscope\n",
        "optics = dt.Fluorescence(\n",
        "    NA=1,\n",
        "    output_region=(0, 0, IMAGE_SIZE, IMAGE_SIZE),\n",
        "    magnification=10,\n",
        "    resolution=(1e-6, 1e-6, 1e-6),\n",
        "    wavelength=633e-9,\n",
        ")\n",
        "\n",
        "# Combining everything into a dataset.\n",
        "# Note that the sequences are flipped in different directions, so that each unique sequence defines\n",
        "# in fact 8 sequences flipped in different directions, to speed up data generation\n",
        "sequential_images = dt.Sequence(\n",
        "    optics(particle ** (lambda: 1 + np.random.randint(MAX_PARTICLES))),\n",
        "    sequence_length=sequence_length,\n",
        ")\n",
        "dataset = sequential_images >> dt.FlipUD() >> dt.FlipDiagonal() >> dt.FlipLR()\n",
        "\n",
        "# Getting just two images for pretraining the CNN\n",
        "two_images = dt.Sequence(\n",
        "    optics(particle ** (lambda: 1 + np.random.randint(MAX_PARTICLES))),\n",
        "    sequence_length=2,\n",
        ")\n",
        "two_img_dataset = two_images >> dt.FlipUD() >> dt.FlipDiagonal() >> dt.FlipLR()"
      ]
    },
    {
      "cell_type": "markdown",
      "source": [
        "### **Exporing dataset**"
      ],
      "metadata": {
        "id": "71pVOi4zuq2u"
      }
    },
    {
      "cell_type": "code",
      "source": [
        "# Generate a single batch of images\n",
        "batch = dataset.update()()\n",
        "\n",
        "# Get unique pixel values\n",
        "unique_values = np.unique(batch)\n",
        "print(unique_values)\n",
        "print(len(unique_values))\n",
        "print(np.max(unique_values))\n",
        "\n",
        "# Check if the unique pixel values are binary\n",
        "is_binary = len(unique_values) == 2 and (0 in unique_values) and (1 in unique_values)\n",
        "\n",
        "if is_binary:\n",
        "    print(\"The pixel values are binary (0 and 1).\")\n",
        "else:\n",
        "    print(\"The pixel values are not binary.\")"
      ],
      "metadata": {
        "colab": {
          "base_uri": "https://localhost:8080/"
        },
        "id": "_6WQwMzI4LsQ",
        "outputId": "2d0ed7f2-0336-4b30-b3a2-a0f8153ab0c5"
      },
      "execution_count": 4,
      "outputs": [
        {
          "output_type": "stream",
          "name": "stdout",
          "text": [
            "[1.30710443e-04 1.31895382e-04 1.32358016e-04 ... 6.21190784e+00\n",
            " 6.21507153e+00 6.22318232e+00]\n",
            "40960\n",
            "6.223182318432385\n",
            "The pixel values are not binary.\n"
          ]
        }
      ]
    },
    {
      "cell_type": "markdown",
      "source": [
        "### **Plotting the images**"
      ],
      "metadata": {
        "id": "6eVqCE_WB3LA"
      }
    },
    {
      "cell_type": "code",
      "source": [
        "import matplotlib.pyplot as plt\n",
        "import torch\n",
        "import numpy as np\n",
        "\n",
        "def plot_images(images):\n",
        "    # Check if the input is a list of numpy arrays\n",
        "    if isinstance(images, list):\n",
        "        num_images = len(images)\n",
        "        fig, axes = plt.subplots(1, num_images, figsize=(num_images * 2, 2))  # Adjust figure size as needed\n",
        "        for i, img in enumerate(images):\n",
        "            if img.ndim == 3 and img.shape[2] == 1:  # [H, W, 1] images\n",
        "                ax = axes[i] if num_images > 1 else axes\n",
        "                ax.imshow(img.squeeze(), cmap='gray')  # Squeeze to remove channel dim if it's 1\n",
        "                ax.axis('off')\n",
        "            else:\n",
        "                raise ValueError(\"Image format not supported or needs additional handling for more channels.\")\n",
        "\n",
        "    # Check if the input is a PyTorch tensor\n",
        "    elif isinstance(images, torch.Tensor):\n",
        "        if images.dim() == 4:  # Batch of images [N, C, H, W]\n",
        "            images = images.detach().cpu().numpy()  # Convert to numpy\n",
        "            num_images = images.shape[0]\n",
        "            fig, axes = plt.subplots(1, num_images, figsize=(num_images * 2, 2))  # Adjust figure size as needed\n",
        "            for i, img in enumerate(images):\n",
        "                img = img.squeeze() if img.shape[0] == 1 else np.transpose(img, (1, 2, 0))\n",
        "                ax = axes[i] if num_images > 1 else axes\n",
        "                ax.imshow(img, cmap='gray' if img.ndim == 2 else None)\n",
        "                ax.axis('off')\n",
        "        else:\n",
        "            raise ValueError(\"Tensor dimension not supported for visualization.\")\n",
        "    else:\n",
        "        raise ValueError(\"Unsupported data type for the images.\")\n",
        "\n",
        "# Example of how to use the function:\n",
        "# Assuming 'batch' is a list of numpy arrays from dataset.update()\n",
        "plot_images(batch)"
      ],
      "metadata": {
        "colab": {
          "base_uri": "https://localhost:8080/",
          "height": 168
        },
        "id": "yptWjDye0Nca",
        "outputId": "7574df2a-7c65-441d-85b8-4cc7d095e660"
      },
      "execution_count": 5,
      "outputs": [
        {
          "output_type": "display_data",
          "data": {
            "text/plain": [
              "<Figure size 2000x200 with 10 Axes>"
            ],
            "image/png": "[encoded data removed]"
          },
          "metadata": {}
        }
      ]
    },
    {
      "cell_type": "markdown",
      "source": [
        "### **Creating Datasets and DataLoaders**"
      ],
      "metadata": {
        "id": "nfmjibbHzJi5"
      }
    },
    {
      "cell_type": "code",
      "source": [
        "import torch\n",
        "from torch.utils.data import Dataset\n",
        "import math\n",
        "from torch.utils.data import DataLoader\n",
        "import numpy as np\n",
        "\n",
        "def generate_data(dataset, size = 256):\n",
        "  data = []\n",
        "  for i in range(math.floor(size/2)):\n",
        "    data += dataset.update()()\n",
        "  return data\n",
        "\n",
        "#train_df = generate_data(two_img_dataset, size = 256)\n",
        "#print(len(test_data))\n",
        "#plot_images(test_data[:16])\n",
        "\n",
        "import torch\n",
        "from torch.utils.data import Dataset\n",
        "import numpy as np\n",
        "\n",
        "class CustomDataset(Dataset):\n",
        "    def __init__(self, pregenerated_data):\n",
        "      # Calculate mean and standard deviation for z-score normalization\n",
        "        all_data = np.concatenate([image.flatten() for image in pregenerated_data])\n",
        "        self.mean = np.mean(all_data)\n",
        "        self.std = np.std(all_data)\n",
        "\n",
        "        # Normalize images\n",
        "        self.data = [\n",
        "            torch.tensor((np.moveaxis(image, -1, 0).copy() - self.mean) / self.std, dtype=torch.float32)\n",
        "            for image in pregenerated_data\n",
        "        ]\n",
        "\n",
        "    def __len__(self):\n",
        "        return len(self.data)\n",
        "\n",
        "    def __getitem__(self, idx):\n",
        "        return self.data[idx]\n",
        "\n",
        "# Assuming two_img_dataset and generate_data are properly defined and used as before\n",
        "train_df = generate_data(two_img_dataset, size = 256)\n",
        "train_data = CustomDataset(train_df)\n",
        "train_loader = DataLoader(train_data, batch_size=16, shuffle=True)\n",
        "\n",
        "val_df = generate_data(two_img_dataset, size = 256)\n",
        "val_data = CustomDataset(val_df)\n",
        "val_loader = DataLoader(val_data, batch_size=16, shuffle=False)\n",
        "\n",
        "test_df = generate_data(two_img_dataset, size = 256)\n",
        "test_data = CustomDataset(test_df)\n",
        "test_loader = DataLoader(test_data, batch_size=16, shuffle=False)\n",
        "\n",
        "\n"
      ],
      "metadata": {
        "id": "-vEWMISsyOJG"
      },
      "execution_count": 6,
      "outputs": []
    },
    {
      "cell_type": "markdown",
      "source": [
        "## **Checking how the images looks and that the dimensions are correct**"
      ],
      "metadata": {
        "id": "f8pbkuQIBmwt"
      }
    },
    {
      "cell_type": "code",
      "source": [
        "# Fetch one batch from the DataLoader\n",
        "for images in train_loader:\n",
        "    # Assuming plot_images is defined to handle a batch of images\n",
        "    print(images[0].shape)  # Pass the tensor directly if your function handles tensor input\n",
        "    plot_images(images)\n",
        "    break  # Exit after the first batch\n"
      ],
      "metadata": {
        "colab": {
          "base_uri": "https://localhost:8080/",
          "height": 184
        },
        "id": "vA-2RU2ry2oH",
        "outputId": "64a3d4ec-510a-4062-e687-59e278f77c3a"
      },
      "execution_count": 7,
      "outputs": [
        {
          "output_type": "stream",
          "name": "stdout",
          "text": [
            "torch.Size([1, 64, 64])\n"
          ]
        },
        {
          "output_type": "display_data",
          "data": {
            "text/plain": [
              "<Figure size 3200x200 with 16 Axes>"
            ],
            "image/png": "[encoded data removed]"
          },
          "metadata": {}
        }
      ]
    },
    {
      "cell_type": "markdown",
      "source": [
        "### **Creating the CNN**"
      ],
      "metadata": {
        "id": "2838rPTyCydz"
      }
    },
    {
      "cell_type": "code",
      "source": [
        "import torch\n",
        "import torch.nn as nn\n",
        "import torch.optim as optim\n",
        "from torch.utils.data import DataLoader\n",
        "import torch.nn.functional as F\n",
        "\n",
        "class Model8(nn.Module):\n",
        "    def __init__(self):\n",
        "        super(Model8, self).__init__()\n",
        "        # Encoder layers\n",
        "        self.encoder = nn.Sequential(\n",
        "            nn.Conv2d(1, 16, 3, stride=2, padding=1),   # [batch, 16, H/2, W/2]\n",
        "            nn.ReLU(True),\n",
        "            nn.Conv2d(16, 32, 3, stride=2, padding=1),  # [batch, 32, H/4, W/4]\n",
        "            nn.ReLU(True),\n",
        "            nn.Conv2d(32, 32, 3, stride=2, padding=1),  # [batch, 32, H/8, W/8]\n",
        "            nn.ReLU(True),\n",
        "            nn.Conv2d(32, 8, 3, stride=2, padding=1),   # [batch, 8, H/16, W/16]\n",
        "            nn.ReLU(True)\n",
        "        )\n",
        "\n",
        "        # Decoder layers\n",
        "        self.decoder = nn.Sequential(\n",
        "            nn.ConvTranspose2d(8, 32, 3, stride=2, padding=1, output_padding=1),    # [batch, 32, H/8, W/8]\n",
        "            nn.ReLU(True),\n",
        "            nn.ConvTranspose2d(32, 32, 3, stride=2, padding=1, output_padding=1),   # [batch, 32, H/4, W/4]\n",
        "            nn.ReLU(True),\n",
        "            nn.ConvTranspose2d(32, 16, 3, stride=2, padding=1, output_padding=1),   # [batch, 16, H/2, W/2]\n",
        "            nn.ReLU(True),\n",
        "            nn.ConvTranspose2d(16, 1, 3, stride=2, padding=1, output_padding=1),    # [batch, 1, H, W]\n",
        "            nn.ReLU()\n",
        "        )\n",
        "\n",
        "    def forward(self, x):\n",
        "        x = self.encoder(x)\n",
        "        x = self.decoder(x)\n",
        "        return x\n"
      ],
      "metadata": {
        "id": "uZPxrf3gnH78"
      },
      "execution_count": 25,
      "outputs": []
    },
    {
      "cell_type": "code",
      "source": [
        "import torch\n",
        "import torch.nn as nn\n",
        "import torch.optim as optim\n",
        "from torch.utils.data import DataLoader\n",
        "import torch.nn.functional as F\n",
        "\n",
        "class Model64(nn.Module):\n",
        "    def __init__(self):\n",
        "        super(Model64, self).__init__()\n",
        "        # Encoder layers\n",
        "        self.encoder = nn.Sequential(\n",
        "            nn.Conv2d(1, 16, 3, stride=2, padding=1),  # [batch, 16, H/2, W/2]\n",
        "            nn.ReLU(True),\n",
        "            nn.Conv2d(16, 32, 3, stride=2, padding=1), # [batch, 32, H/4, W/4]\n",
        "            nn.ReLU(True),\n",
        "            nn.Conv2d(32, 64, 3, stride=2, padding=1), # [batch, 64, H/8, W/8]\n",
        "            nn.ReLU(True)\n",
        "        )\n",
        "\n",
        "        # Decoder layers\n",
        "        self.decoder = nn.Sequential(\n",
        "            nn.ConvTranspose2d(64, 32, 3, stride=2, padding=1, output_padding=1),  # [batch, 32, H/4, W/4]\n",
        "            nn.ReLU(True),\n",
        "            nn.ConvTranspose2d(32, 16, 3, stride=2, padding=1, output_padding=1),  # [batch, 16, H/2, W/2]\n",
        "            nn.ReLU(True),\n",
        "            nn.ConvTranspose2d(16, 1, 3, stride=2, padding=1, output_padding=1),   # [batch, 1, H, W]\n",
        "            nn.ReLU()  # Assuming the input is scaled between 0 and 1\n",
        "        )\n",
        "\n",
        "    def forward(self, x):\n",
        "        x = self.encoder(x)\n",
        "        x = self.decoder(x)\n",
        "        return x\n"
      ],
      "metadata": {
        "id": "XoU-dX8QCEZ2"
      },
      "execution_count": 26,
      "outputs": []
    },
    {
      "cell_type": "code",
      "source": [
        "import torch\n",
        "import torch.nn as nn\n",
        "import torch.optim as optim\n",
        "from torch.utils.data import DataLoader\n",
        "import torch.nn.functional as F\n",
        "\n",
        "class Model128(nn.Module):\n",
        "    def __init__(self):\n",
        "        super(Model128, self).__init__()\n",
        "        self.encoder = nn.Sequential(\n",
        "            nn.Conv2d(1, 16, 3, stride=2, padding=1),\n",
        "            nn.ReLU(True),\n",
        "            nn.Conv2d(16, 32, 3, stride=2, padding=1),\n",
        "            nn.ReLU(True),\n",
        "            nn.Conv2d(32, 128, 3, stride=2, padding=1),\n",
        "            nn.ReLU(True)\n",
        "        )\n",
        "        self.decoder = nn.Sequential(\n",
        "            nn.ConvTranspose2d(128, 32, 3, stride=2, padding=1, output_padding=1),\n",
        "            nn.ReLU(True),\n",
        "            nn.ConvTranspose2d(32, 16, 3, stride=2, padding=1, output_padding=1),\n",
        "            nn.ReLU(True),\n",
        "            nn.ConvTranspose2d(16, 1, 3, stride=2, padding=1, output_padding=1),\n",
        "            nn.ReLU()\n",
        "        )\n",
        "\n",
        "    def forward(self, x):\n",
        "        x = self.encoder(x)\n",
        "        x = self.decoder(x)\n",
        "        return x"
      ],
      "metadata": {
        "id": "jaUXlt6ZpotM"
      },
      "execution_count": 27,
      "outputs": []
    },
    {
      "cell_type": "code",
      "source": [
        "import torch\n",
        "import torch.nn as nn\n",
        "import torch.optim as optim\n",
        "from torch.utils.data import DataLoader\n",
        "import torch.nn.functional as F\n",
        "\n",
        "class Model256(nn.Module):\n",
        "    def __init__(self):\n",
        "        super(Model256, self).__init__()\n",
        "        self.encoder = nn.Sequential(\n",
        "            nn.Conv2d(1, 16, 3, stride=2, padding=1),\n",
        "            nn.ReLU(True),\n",
        "            nn.Conv2d(16, 64, 3, stride=2, padding=1),\n",
        "            nn.ReLU(True),\n",
        "            nn.Conv2d(64, 256, 3, stride=2, padding=1),\n",
        "            nn.ReLU(True)\n",
        "        )\n",
        "        self.decoder = nn.Sequential(\n",
        "            nn.ConvTranspose2d(256, 64, 3, stride=2, padding=1, output_padding=1),\n",
        "            nn.ReLU(True),\n",
        "            nn.ConvTranspose2d(64, 16, 3, stride=2, padding=1, output_padding=1),\n",
        "            nn.ReLU(True),\n",
        "            nn.ConvTranspose2d(16, 1, 3, stride=2, padding=1, output_padding=1),\n",
        "            nn.ReLU()\n",
        "        )\n",
        "\n",
        "    def forward(self, x):\n",
        "        x = self.encoder(x)\n",
        "        x = self.decoder(x)\n",
        "        return x"
      ],
      "metadata": {
        "id": "9KSKrFQaqAZ8"
      },
      "execution_count": 28,
      "outputs": []
    },
    {
      "cell_type": "code",
      "source": [
        "import torch\n",
        "import torch.nn as nn\n",
        "import torch.optim as optim\n",
        "from torch.utils.data import DataLoader\n",
        "import torch.nn.functional as F\n",
        "\n",
        "class Model512(nn.Module):\n",
        "    def __init__(self):\n",
        "        super(Model512, self).__init__()\n",
        "        self.encoder = nn.Sequential(\n",
        "            nn.Conv2d(1, 32, 3, stride=2, padding=1),\n",
        "            nn.ReLU(True),\n",
        "            nn.Conv2d(32, 128, 3, stride=2, padding=1),\n",
        "            nn.ReLU(True),\n",
        "            nn.Conv2d(128, 512, 3, stride=2, padding=1),\n",
        "            nn.ReLU(True)\n",
        "        )\n",
        "        self.decoder = nn.Sequential(\n",
        "            nn.ConvTranspose2d(512, 128, 3, stride=2, padding=1, output_padding=1),\n",
        "            nn.ReLU(True),\n",
        "            nn.ConvTranspose2d(128, 32, 3, stride=2, padding=1, output_padding=1),\n",
        "            nn.ReLU(True),\n",
        "            nn.ConvTranspose2d(32, 1, 3, stride=2, padding=1, output_padding=1),\n",
        "            nn.ReLU()\n",
        "        )\n",
        "\n",
        "    def forward(self, x):\n",
        "        x = self.encoder(x)\n",
        "        x = self.decoder(x)\n",
        "        return x"
      ],
      "metadata": {
        "id": "6G8jJZiWqn7d"
      },
      "execution_count": 8,
      "outputs": []
    },
    {
      "cell_type": "markdown",
      "source": [
        "### **Training the models**"
      ],
      "metadata": {
        "id": "QIyLzPvgp9DZ"
      }
    },
    {
      "cell_type": "code",
      "source": [
        "import torch\n",
        "import torch.nn as nn\n",
        "import torch.optim as optim\n",
        "from torch.utils.data import DataLoader\n",
        "\n",
        "def train_nn(model, val_loader, optimizer, loss_fn, num_epochs):\n",
        "\n",
        "    # Store losses to return\n",
        "    train_losses = []\n",
        "    val_losses = []\n",
        "\n",
        "    for epoch in range(num_epochs):\n",
        "        model.train()  # Set the model to training mode\n",
        "        total_train_loss = 0\n",
        "\n",
        "        train_df = generate_data(two_img_dataset, size = 256)\n",
        "        train_data = CustomDataset(train_df)\n",
        "        train_loader = DataLoader(train_data, batch_size=16, shuffle=True)\n",
        "\n",
        "        for images in train_loader:\n",
        "            optimizer.zero_grad()\n",
        "            outputs = model(images)\n",
        "            loss = loss_fn(outputs, images)\n",
        "            loss.backward()\n",
        "            optimizer.step()\n",
        "            total_train_loss += loss.item() * images.size(0)\n",
        "\n",
        "        # Calculate average training loss for the epoch\n",
        "        avg_train_loss = total_train_loss / len(train_loader.dataset)\n",
        "        train_losses.append(avg_train_loss)\n",
        "\n",
        "        # Validation phase\n",
        "        model.eval()  # Set the model to evaluation mode\n",
        "        total_val_loss = 0\n",
        "        with torch.no_grad():\n",
        "            for images in val_loader:\n",
        "                outputs = model(images)\n",
        "                loss = loss_fn(outputs, images)\n",
        "                total_val_loss += loss.item() * images.size(0)\n",
        "\n",
        "        # Calculate average validation loss for the epoch\n",
        "        avg_val_loss = total_val_loss / len(val_loader.dataset)\n",
        "        val_losses.append(avg_val_loss)\n",
        "\n",
        "        # Print losses for the epoch\n",
        "        print(f'Epoch {epoch+1}/{num_epochs} - Train Loss: {avg_train_loss:.4f}, Val Loss: {avg_val_loss:.4f}')\n",
        "\n",
        "    return train_losses, val_losses\n"
      ],
      "metadata": {
        "id": "m7ArgJ2FC2lm"
      },
      "execution_count": 13,
      "outputs": []
    },
    {
      "cell_type": "markdown",
      "source": [
        "### **Models with different bottleneck sizes**"
      ],
      "metadata": {
        "id": "8l9o-76d27bT"
      }
    },
    {
      "cell_type": "code",
      "source": [
        "# Create the model with bottleneck 64\n",
        "model8 = Model8()"
      ],
      "metadata": {
        "id": "CH-mYS5voH75"
      },
      "execution_count": 31,
      "outputs": []
    },
    {
      "cell_type": "code",
      "source": [
        "# Define the optimizer and loss function\n",
        "optimizer = optim.Adam(model8.parameters(), lr=0.001)\n",
        "loss_fn = nn.MSELoss()\n",
        "\n",
        "# Number of epochs to train\n",
        "num_epochs = 10\n",
        "\n",
        "# Train the network\n",
        "train_losses8, val_losses8 = train_nn(model8, val_loader, optimizer, loss_fn, num_epochs)"
      ],
      "metadata": {
        "colab": {
          "base_uri": "https://localhost:8080/"
        },
        "id": "8U3JMhf0oJE3",
        "outputId": "4c824bfd-5d21-43cb-9d3b-b998fd720092"
      },
      "execution_count": 32,
      "outputs": [
        {
          "output_type": "stream",
          "name": "stdout",
          "text": [
            "Epoch 1/15 - Train Loss: 1.1000, Val Loss: 1.0637\n",
            "Epoch 2/15 - Train Loss: 0.8810, Val Loss: 0.5155\n",
            "Epoch 3/15 - Train Loss: 0.3816, Val Loss: 0.2533\n",
            "Epoch 4/15 - Train Loss: 0.2390, Val Loss: 0.1900\n",
            "Epoch 5/15 - Train Loss: 0.1798, Val Loss: 0.1553\n",
            "Epoch 6/15 - Train Loss: 0.1507, Val Loss: 0.1411\n",
            "Epoch 7/15 - Train Loss: 0.1356, Val Loss: 0.1325\n",
            "Epoch 8/15 - Train Loss: 0.1291, Val Loss: 0.1501\n",
            "Epoch 9/15 - Train Loss: 0.1247, Val Loss: 0.1248\n",
            "Epoch 10/15 - Train Loss: 0.1218, Val Loss: 0.1112\n",
            "Epoch 11/15 - Train Loss: 0.1117, Val Loss: 0.1108\n",
            "Epoch 12/15 - Train Loss: 0.1017, Val Loss: 0.1050\n",
            "Epoch 13/15 - Train Loss: 0.0998, Val Loss: 0.1009\n",
            "Epoch 14/15 - Train Loss: 0.0980, Val Loss: 0.0977\n",
            "Epoch 15/15 - Train Loss: 0.0962, Val Loss: 0.1038\n"
          ]
        }
      ]
    },
    {
      "cell_type": "code",
      "source": [
        "# Create the model with bottleneck 64\n",
        "model64 = Model64()"
      ],
      "metadata": {
        "id": "rUDrwXoRIkpQ"
      },
      "execution_count": 41,
      "outputs": []
    },
    {
      "cell_type": "code",
      "source": [
        "# Define the optimizer and loss function\n",
        "optimizer = optim.Adam(model64.parameters(), lr=0.001)\n",
        "loss_fn = nn.MSELoss()\n",
        "\n",
        "# Number of epochs to train\n",
        "num_epochs = 10\n",
        "\n",
        "# Train the network\n",
        "train_losses64, val_losses64 = train_nn(model64, val_loader, optimizer, loss_fn, num_epochs)"
      ],
      "metadata": {
        "colab": {
          "base_uri": "https://localhost:8080/"
        },
        "id": "jajJyEocDtBc",
        "outputId": "eb0e7d06-3562-41b5-fbf0-c2dcc5b79f2a"
      },
      "execution_count": 42,
      "outputs": [
        {
          "output_type": "stream",
          "name": "stdout",
          "text": [
            "Epoch 1/15 - Train Loss: 0.9327, Val Loss: 0.6866\n",
            "Epoch 2/15 - Train Loss: 0.5191, Val Loss: 0.3214\n",
            "Epoch 3/15 - Train Loss: 0.2735, Val Loss: 0.2330\n",
            "Epoch 4/15 - Train Loss: 0.2217, Val Loss: 0.2000\n",
            "Epoch 5/15 - Train Loss: 0.1859, Val Loss: 0.1772\n",
            "Epoch 6/15 - Train Loss: 0.1616, Val Loss: 0.1552\n",
            "Epoch 7/15 - Train Loss: 0.1533, Val Loss: 0.1478\n",
            "Epoch 8/15 - Train Loss: 0.1490, Val Loss: 0.1424\n",
            "Epoch 9/15 - Train Loss: 0.1170, Val Loss: 0.0949\n",
            "Epoch 10/15 - Train Loss: 0.0853, Val Loss: 0.0864\n",
            "Epoch 11/15 - Train Loss: 0.0848, Val Loss: 0.0827\n",
            "Epoch 12/15 - Train Loss: 0.0791, Val Loss: 0.0830\n",
            "Epoch 13/15 - Train Loss: 0.0816, Val Loss: 0.0805\n",
            "Epoch 14/15 - Train Loss: 0.0728, Val Loss: 0.0801\n",
            "Epoch 15/15 - Train Loss: 0.0734, Val Loss: 0.0788\n"
          ]
        }
      ]
    },
    {
      "cell_type": "code",
      "source": [
        "model128 = Model128()"
      ],
      "metadata": {
        "id": "I9YpafbqpsnW"
      },
      "execution_count": 35,
      "outputs": []
    },
    {
      "cell_type": "code",
      "source": [
        "# Define the optimizer and loss function\n",
        "optimizer = optim.Adam(model128.parameters(), lr=0.001)\n",
        "loss_fn = nn.MSELoss()\n",
        "\n",
        "# Number of epochs to train\n",
        "num_epochs = 10\n",
        "\n",
        "# Train the network\n",
        "train_losses128, val_losses128 = train_nn(model128, val_loader, optimizer, loss_fn, num_epochs)"
      ],
      "metadata": {
        "colab": {
          "base_uri": "https://localhost:8080/"
        },
        "id": "7ECCoZdZpuX8",
        "outputId": "fe64d4f3-376e-4bfc-e20f-dac70ca12c4b"
      },
      "execution_count": 36,
      "outputs": [
        {
          "output_type": "stream",
          "name": "stdout",
          "text": [
            "Epoch 1/15 - Train Loss: 0.9295, Val Loss: 0.6071\n",
            "Epoch 2/15 - Train Loss: 0.3906, Val Loss: 0.2315\n",
            "Epoch 3/15 - Train Loss: 0.1783, Val Loss: 0.1370\n",
            "Epoch 4/15 - Train Loss: 0.1266, Val Loss: 0.1145\n",
            "Epoch 5/15 - Train Loss: 0.1029, Val Loss: 0.1021\n",
            "Epoch 6/15 - Train Loss: 0.0926, Val Loss: 0.0931\n",
            "Epoch 7/15 - Train Loss: 0.0889, Val Loss: 0.0881\n",
            "Epoch 8/15 - Train Loss: 0.0822, Val Loss: 0.0931\n",
            "Epoch 9/15 - Train Loss: 0.0843, Val Loss: 0.0831\n",
            "Epoch 10/15 - Train Loss: 0.0795, Val Loss: 0.0814\n",
            "Epoch 11/15 - Train Loss: 0.0741, Val Loss: 0.0803\n",
            "Epoch 12/15 - Train Loss: 0.0792, Val Loss: 0.0791\n",
            "Epoch 13/15 - Train Loss: 0.0669, Val Loss: 0.0784\n",
            "Epoch 14/15 - Train Loss: 0.0728, Val Loss: 0.0774\n",
            "Epoch 15/15 - Train Loss: 0.0747, Val Loss: 0.0767\n"
          ]
        }
      ]
    },
    {
      "cell_type": "code",
      "source": [
        "model256 = Model256()"
      ],
      "metadata": {
        "id": "4I4N4vXzqFea"
      },
      "execution_count": 49,
      "outputs": []
    },
    {
      "cell_type": "code",
      "source": [
        "# Define the optimizer and loss function\n",
        "optimizer = optim.Adam(model256.parameters(), lr=0.001)\n",
        "loss_fn = nn.MSELoss()\n",
        "\n",
        "# Number of epochs to train\n",
        "num_epochs = 10\n",
        "\n",
        "# Train the network\n",
        "train_losses256, val_losses256 = train_nn(model256, val_loader, optimizer, loss_fn, num_epochs)"
      ],
      "metadata": {
        "colab": {
          "base_uri": "https://localhost:8080/"
        },
        "id": "oSpTqShKqI4o",
        "outputId": "0db4cbab-4bc1-4d89-f5a8-e2dc02eb2934"
      },
      "execution_count": 50,
      "outputs": [
        {
          "output_type": "stream",
          "name": "stdout",
          "text": [
            "Epoch 1/15 - Train Loss: 0.6378, Val Loss: 0.3239\n",
            "Epoch 2/15 - Train Loss: 0.2517, Val Loss: 0.2040\n",
            "Epoch 3/15 - Train Loss: 0.1785, Val Loss: 0.1326\n",
            "Epoch 4/15 - Train Loss: 0.1187, Val Loss: 0.1030\n",
            "Epoch 5/15 - Train Loss: 0.0922, Val Loss: 0.0925\n",
            "Epoch 6/15 - Train Loss: 0.0832, Val Loss: 0.0877\n",
            "Epoch 7/15 - Train Loss: 0.0835, Val Loss: 0.0850\n",
            "Epoch 8/15 - Train Loss: 0.0840, Val Loss: 0.0830\n",
            "Epoch 9/15 - Train Loss: 0.0843, Val Loss: 0.0821\n",
            "Epoch 10/15 - Train Loss: 0.0754, Val Loss: 0.0809\n",
            "Epoch 11/15 - Train Loss: 0.0799, Val Loss: 0.0812\n",
            "Epoch 12/15 - Train Loss: 0.0735, Val Loss: 0.0815\n",
            "Epoch 13/15 - Train Loss: 0.0738, Val Loss: 0.0799\n",
            "Epoch 14/15 - Train Loss: 0.0753, Val Loss: 0.0798\n",
            "Epoch 15/15 - Train Loss: 0.0744, Val Loss: 0.0794\n"
          ]
        }
      ]
    },
    {
      "cell_type": "code",
      "source": [
        "model512 = Model512()"
      ],
      "metadata": {
        "id": "8moDEgbmqsbf"
      },
      "execution_count": 75,
      "outputs": []
    },
    {
      "cell_type": "code",
      "source": [
        "# Define the optimizer and loss function\n",
        "optimizer = optim.Adam(model512.parameters(), lr=0.001)\n",
        "loss_fn = nn.MSELoss()\n",
        "\n",
        "# Number of epochs to train\n",
        "num_epochs = 10\n",
        "\n",
        "# Train the network\n",
        "train_losses512, val_losses512 = train_nn(model512, val_loader, optimizer, loss_fn, num_epochs)"
      ],
      "metadata": {
        "colab": {
          "base_uri": "https://localhost:8080/"
        },
        "id": "WiJ4V_X5qvpJ",
        "outputId": "beaf3068-ccb0-4a5a-8454-842dfb42a73f"
      },
      "execution_count": 76,
      "outputs": [
        {
          "output_type": "stream",
          "name": "stdout",
          "text": [
            "Epoch 1/15 - Train Loss: 0.5554, Val Loss: 0.2093\n",
            "Epoch 2/15 - Train Loss: 0.1714, Val Loss: 0.1157\n",
            "Epoch 3/15 - Train Loss: 0.1170, Val Loss: 0.1012\n",
            "Epoch 4/15 - Train Loss: 0.0914, Val Loss: 0.0787\n",
            "Epoch 5/15 - Train Loss: 0.0765, Val Loss: 0.0731\n",
            "Epoch 6/15 - Train Loss: 0.0738, Val Loss: 0.0700\n",
            "Epoch 7/15 - Train Loss: 0.0740, Val Loss: 0.0688\n",
            "Epoch 8/15 - Train Loss: 0.0682, Val Loss: 0.0691\n",
            "Epoch 9/15 - Train Loss: 0.0678, Val Loss: 0.0694\n",
            "Epoch 10/15 - Train Loss: 0.0689, Val Loss: 0.0683\n",
            "Epoch 11/15 - Train Loss: 0.0737, Val Loss: 0.0736\n",
            "Epoch 12/15 - Train Loss: 0.0693, Val Loss: 0.0675\n",
            "Epoch 13/15 - Train Loss: 0.0679, Val Loss: 0.0673\n",
            "Epoch 14/15 - Train Loss: 0.0705, Val Loss: 0.0674\n",
            "Epoch 15/15 - Train Loss: 0.0677, Val Loss: 0.0672\n"
          ]
        }
      ]
    },
    {
      "cell_type": "markdown",
      "source": [
        "### **Visualizing the results**"
      ],
      "metadata": {
        "id": "19hzEgd47Mmu"
      }
    },
    {
      "cell_type": "code",
      "source": [
        "# Assuming all models were trained for the same number of epochs\n",
        "epochs = range(1, len(val_losses8) + 1)\n",
        "\n",
        "# Plotting\n",
        "plt.figure(figsize=(10, 5))\n",
        "plt.plot(epochs, val_losses8, label='Bottleneck 8', marker='o')\n",
        "plt.plot(epochs, val_losses64, label='Bottleneck 64', marker='o')\n",
        "plt.plot(epochs, val_losses128, label='Bottleneck 128', marker='o')\n",
        "plt.plot(epochs, val_losses256, label='Bottleneck 256', marker='o')\n",
        "plt.plot(epochs, val_losses512, label='Bottleneck 512', marker='o')\n",
        "\n",
        "plt.title('Validation Loss Across Different Bottleneck Sizes')\n",
        "plt.xlabel('Epochs')\n",
        "plt.ylabel('Validation Loss')\n",
        "plt.legend()\n",
        "plt.grid(True)\n",
        "plt.show()"
      ],
      "metadata": {
        "colab": {
          "base_uri": "https://localhost:8080/",
          "height": 487
        },
        "id": "yTWe-PZSvg53",
        "outputId": "59b60ea5-69b0-4daf-900c-9f9a9f49d6e2"
      },
      "execution_count": 51,
      "outputs": [
        {
          "output_type": "display_data",
          "data": {
            "text/plain": [
              "<Figure size 1000x500 with 1 Axes>"
            ],
            "image/png": "[encoded data removed]"
          },
          "metadata": {}
        }
      ]
    },
    {
      "cell_type": "code",
      "source": [
        "# Process images from test_loader\n",
        "with torch.no_grad():\n",
        "    for images in test_loader:\n",
        "\n",
        "        plot_images(images)\n",
        "\n",
        "        outputs8 = model8(images)\n",
        "        plot_images(outputs8)\n",
        "\n",
        "        outputs64 = model64(images)\n",
        "        plot_images(outputs64)\n",
        "\n",
        "        outputs128 = model128(images)\n",
        "        plot_images(outputs128)\n",
        "\n",
        "        outputs256 = model256(images)\n",
        "        plot_images(outputs256)\n",
        "\n",
        "        outputs512 = model512(images)\n",
        "        plot_images(outputs512)\n",
        "\n",
        "        break  # Remove break to process more batches"
      ],
      "metadata": {
        "id": "SVovnyo7HAuE"
      },
      "execution_count": null,
      "outputs": []
    },
    {
      "cell_type": "markdown",
      "source": [
        "### **VISION ENCODER**"
      ],
      "metadata": {
        "id": "yXDfstKKBHHX"
      }
    },
    {
      "cell_type": "code",
      "source": [
        "# Generate a large number of sequences to create the dataset\n",
        "num_sequences = 128  # This is just an example; adjust based on your computational resources\n",
        "all_sequences = [sequential_images.update()() for _ in range(num_sequences)]\n"
      ],
      "metadata": {
        "id": "mJ69MNx-xFMp"
      },
      "execution_count": 63,
      "outputs": []
    },
    {
      "cell_type": "code",
      "source": [
        "def generate_seq_data(num_seqs, seq_length):\n",
        "  generator = dt.Sequence(\n",
        "    optics(particle ** (lambda: 1 + np.random.randint(MAX_PARTICLES))),\n",
        "    sequence_length=seq_length,\n",
        "  )\n",
        "\n",
        "  data = []\n",
        "  for i in range(num_seqs):\n",
        "    data.append(generator.update()())\n",
        "\n",
        "  return data\n"
      ],
      "metadata": {
        "id": "op8RiFd3BYZe"
      },
      "execution_count": 70,
      "outputs": []
    },
    {
      "cell_type": "code",
      "source": [
        "test = generate_seq_data(num_seqs = 16, seq_length = 12)\n",
        "print(len(test))\n",
        "print(len(test[0]))"
      ],
      "metadata": {
        "colab": {
          "base_uri": "https://localhost:8080/"
        },
        "id": "a25UuLXOC47O",
        "outputId": "3b049f86-7e7e-48b9-eefb-af7eccaa7347"
      },
      "execution_count": 71,
      "outputs": [
        {
          "output_type": "stream",
          "name": "stdout",
          "text": [
            "16\n",
            "12\n"
          ]
        }
      ]
    },
    {
      "cell_type": "markdown",
      "source": [
        "### **Transformer Encoder**"
      ],
      "metadata": {
        "id": "4BZXLOk7T4r1"
      }
    },
    {
      "cell_type": "code",
      "source": [
        "import torch\n",
        "import torch.nn as nn\n",
        "\n",
        "class PatchEmbedder(nn.Module):\n",
        "    def __init__(self, image_size=64, patch_size=8, embedding_dim=512):\n",
        "        super(PatchEmbedder, self).__init__()\n",
        "        self.image_size = image_size\n",
        "        self.patch_size = patch_size\n",
        "        self.embedding_dim = embedding_dim\n",
        "        self.num_patches = (image_size // patch_size) * (image_size // patch_size)\n",
        "        self.projection = nn.Conv2d(1, embedding_dim, kernel_size=patch_size, stride=patch_size)\n",
        "\n",
        "        # Positional embeddings\n",
        "        self.positional_embedding = nn.Parameter(torch.randn(1, self.num_patches, embedding_dim))\n",
        "\n",
        "    def forward(self, x):\n",
        "        # Reshape input image into patches\n",
        "        x = self.projection(x)\n",
        "        # Reshape patches into a sequence\n",
        "        x = x.view(x.size(0), self.num_patches, self.embedding_dim)\n",
        "        # Add positional embeddings\n",
        "        x += self.positional_embedding\n",
        "        # Transpose to make the sequence the second dimension (batch_size, num_patches, embedding_dim)\n",
        "        #x = x.transpose(1, 2)\n",
        "        return x\n",
        "\n",
        "\n",
        "# Testing the patch embedder\n",
        "image = torch.randn(1, 1, 64, 64)  # Batch size 1, single channel, 64x64 image\n",
        "patch_embedder = PatchEmbedder()\n",
        "output = patch_embedder(image)\n",
        "print(\"Output shape:\", output.shape)\n"
      ],
      "metadata": {
        "id": "SEpB_N4u0u2Z",
        "outputId": "30163106-e277-48f2-eb96-4d498207e888",
        "colab": {
          "base_uri": "https://localhost:8080/"
        }
      },
      "execution_count": 84,
      "outputs": [
        {
          "output_type": "stream",
          "name": "stdout",
          "text": [
            "Output shape: torch.Size([1, 64, 512])\n"
          ]
        }
      ]
    },
    {
      "cell_type": "code",
      "source": [
        "import torch\n",
        "import torch.nn as nn\n",
        "import torch.nn.functional as F\n",
        "\n",
        "class TransformerEncoderLayer(nn.Module):\n",
        "    def __init__(self, embedding_dim=512, num_heads=3, dropout=0.1):\n",
        "        super(TransformerEncoderLayer, self).__init__()\n",
        "        self.self_attn = nn.MultiheadAttention(embed_dim=embedding_dim, num_heads=num_heads, dropout=dropout)\n",
        "        self.norm1 = nn.LayerNorm(embedding_dim)\n",
        "        self.dropout1 = nn.Dropout(dropout)\n",
        "        self.linear1 = nn.Linear(embedding_dim, 2048)\n",
        "        self.dropout2 = nn.Dropout(dropout)\n",
        "        self.linear2 = nn.Linear(2048, embedding_dim)\n",
        "        self.norm2 = nn.LayerNorm(embedding_dim)\n",
        "\n",
        "    def forward(self, x):\n",
        "        # Multi-Head Self Attention\n",
        "        x_res = x\n",
        "        x = self.self_attn(x, x, x)[0]\n",
        "        x = self.dropout1(x)\n",
        "        # Add skip connection and apply layer normalization\n",
        "        x = self.norm1(x + x_res)\n",
        "\n",
        "        # MLP layer\n",
        "        x_res = x\n",
        "        x = F.relu(self.linear1(x))\n",
        "        x = self.dropout2(x)\n",
        "        x = self.linear2(x)\n",
        "        # Add skip connection and apply layer normalization\n",
        "        x = self.norm2(x + x_res)\n",
        "        return x\n",
        "\n",
        "class TransformerEncoder(nn.Module):\n",
        "    def __init__(self, patch_embedder, embedding_dim=512, num_heads=8, num_layers=6, dropout=0.1):\n",
        "        super(TransformerEncoder, self).__init__()\n",
        "        self.patch_embedder = patch_embedder\n",
        "        self.layers = nn.ModuleList([TransformerEncoderLayer(embedding_dim, num_heads, dropout) for _ in range(num_layers)])\n",
        "\n",
        "    def forward(self, x):\n",
        "      # Patch input image\n",
        "      #print(\"Input shape:\", x.shape)\n",
        "      x = self.patch_embedder(x)\n",
        "      #print(\"Patch embedding shape:\", x.shape)\n",
        "      # Apply each Transformer Encoder layer\n",
        "      for layer in self.layers:\n",
        "          x = layer(x)\n",
        "          #print(\"Layer output shape:\", x.shape)\n",
        "      return x\n",
        "\n",
        "\n",
        "# Testing the Transformer Encoder\n",
        "image = torch.randn(1, 1, 64, 64)  # Batch size 1, single channel, 64x64 image\n",
        "transformer_encoder = TransformerEncoder(patch_embedder)\n",
        "output = transformer_encoder(image)\n",
        "#print(\"Output shape:\", output.shape)\n"
      ],
      "metadata": {
        "id": "BGY9aT0F35DT"
      },
      "execution_count": 85,
      "outputs": []
    },
    {
      "cell_type": "code",
      "source": [
        "import torch\n",
        "import torch.nn as nn\n",
        "\n",
        "class ViT(nn.Module):\n",
        "    def __init__(self, transformer_encoder, decoder):\n",
        "        super(ViT, self).__init__()\n",
        "        self.transformer_encoder = transformer_encoder\n",
        "        self.decoder = decoder\n",
        "\n",
        "    def forward(self, x):\n",
        "      # Pass input through Transformer encoder\n",
        "      x = self.transformer_encoder(x)\n",
        "      # Reshape output to match expected input shape of the decoder\n",
        "      x = x.view(x.size(0), 512, 8, 8)  # Reshape from [1, 64, 512] to [1, 512, 8, 8]\n",
        "      # Pass the reshaped output through the decoder\n",
        "      x = self.decoder(x)\n",
        "      return x\n",
        "\n",
        "# Instantiate your trained decoder\n",
        "decoder = model512.decoder\n",
        "\n",
        "# Instantiate the Transformer encoder (assuming it's already instantiated)\n",
        "transformer_encoder = TransformerEncoder(patch_embedder)\n",
        "\n",
        "# Combine the Transformer encoder and the decoder into a single model\n",
        "ViT_model = ViT(transformer_encoder, decoder)\n",
        "\n"
      ],
      "metadata": {
        "id": "Guf0Si-q8Qv0"
      },
      "execution_count": 86,
      "outputs": []
    },
    {
      "cell_type": "code",
      "source": [
        "# Assuming you have an image tensor named 'image'\n",
        "image = torch.randn(1, 1, 64, 64)  # Sample image tensor\n",
        "\n",
        "# Pass the image through the ViT_model\n",
        "with torch.no_grad():\n",
        "    output = ViT_model(image)\n",
        "\n",
        "# Print the shape of the output to ensure it matches your expectations\n",
        "#print(\"Output shape:\", output.shape)\n",
        "\n",
        "# Optionally, you can print the output itself for inspection\n",
        "#print(\"Output:\", output)\n"
      ],
      "metadata": {
        "id": "fZwPQlGt8jSk"
      },
      "execution_count": 87,
      "outputs": []
    },
    {
      "cell_type": "code",
      "source": [
        "# Loss function\n",
        "criterion = torch.nn.MSELoss()  # Example for a reconstruction task\n",
        "\n",
        "# Optimizer (only optimizing the transformer encoder's parameters)\n",
        "optimizer = torch.optim.Adam(transformer_encoder.parameters(), lr=0.001)\n",
        "\n",
        "# Example training loop\n",
        "for epoch in range(num_epochs):\n",
        "    for images in train_loader:  # Assuming images are your input data\n",
        "\n",
        "        optimizer.zero_grad()       # Zero the parameter gradients\n",
        "        outputs = ViT_model(images) # Forward pass through the whole model\n",
        "        loss = criterion(outputs, images)  # Compute loss; may vary based on task\n",
        "        loss.backward()             # Backpropagation\n",
        "        optimizer.step()            # Optimize only the encoder\n",
        "\n",
        "        print(f\"Epoch {epoch}, Loss: {loss.item()}\")  # Print loss for monitoring\n",
        "\n",
        "    # Save model/checkpoint if necessary or evaluate on validation set\n"
      ],
      "metadata": {
        "id": "gxIY7D1Y-tUY"
      },
      "execution_count": null,
      "outputs": []
    },
    {
      "cell_type": "code",
      "source": [
        "import torch\n",
        "import torch.nn as nn\n",
        "import torch.optim as optim\n",
        "from torch.utils.data import DataLoader\n",
        "\n",
        "def train_ViT(model, train_loader, val_loader, optimizer, criterion, num_epochs):\n",
        "    # Ensure decoder's weights are frozen\n",
        "    for param in model.decoder.parameters():\n",
        "        param.requires_grad = False\n",
        "\n",
        "    # Store losses to track progress\n",
        "    train_losses = []\n",
        "    val_losses = []\n",
        "\n",
        "    for epoch in range(num_epochs):\n",
        "        model.train()  # Set the model to training mode\n",
        "        total_train_loss = 0\n",
        "\n",
        "        for images in train_loader:\n",
        "            optimizer.zero_grad()  # Zero the gradient buffers\n",
        "            outputs = model(images)  # Forward pass: compute predicted outputs by the model\n",
        "            loss = criterion(outputs, images)  # Calculate the loss based on the model's output and actual data\n",
        "            loss.backward()  # Backward pass: compute gradient of the loss with respect to model parameters\n",
        "            optimizer.step()  # Perform a single optimization step (parameter update)\n",
        "            total_train_loss += loss.item() * images.size(0)  # Sum up total loss for the epoch\n",
        "\n",
        "        # Calculate average training loss for the epoch\n",
        "        avg_train_loss = total_train_loss / len(train_loader.dataset)\n",
        "        train_losses.append(avg_train_loss)\n",
        "\n",
        "        # Validation phase\n",
        "        model.eval()  # Set the model to evaluation mode\n",
        "        total_val_loss = 0\n",
        "        with torch.no_grad():  # Context-manager that disables gradient calculation\n",
        "            for images in val_loader:\n",
        "                outputs = model(images)  # Forward pass: compute predicted outputs by the model\n",
        "                loss = criterion(outputs, images)  # Calculate the loss\n",
        "                total_val_loss += loss.item() * images.size(0)  # Sum up total loss for the epoch\n",
        "\n",
        "        # Calculate average validation loss for the epoch\n",
        "        avg_val_loss = total_val_loss / len(val_loader.dataset)\n",
        "        val_losses.append(avg_val_loss)\n",
        "\n",
        "        # Print losses for the epoch\n",
        "        print(f'Epoch {epoch+1}/{num_epochs} - Train Loss: {avg_train_loss:.4f}, Val Loss: {avg_val_loss:.4f}')\n",
        "\n",
        "    return train_losses, val_losses\n",
        "\n",
        "# Example usage\n",
        "\n",
        "optimizer = torch.optim.Adam(filter(lambda p: p.requires_grad, ViT_model.parameters()), lr=0.001)  # Optimizer only for the trainable parameters\n",
        "criterion = torch.nn.MSELoss()  # Loss function\n",
        "\n",
        "# Assuming train_loader and val_loader are defined somewhere\n",
        "train_losses, val_losses = train_ViT(ViT_model, train_loader, val_loader, optimizer, criterion, num_epochs=10)\n"
      ],
      "metadata": {
        "id": "uLNRk7udAlLL",
        "outputId": "5939339a-dedd-4f85-b3af-e5a8638fdc9b",
        "colab": {
          "base_uri": "https://localhost:8080/",
          "height": 478
        }
      },
      "execution_count": 89,
      "outputs": [
        {
          "output_type": "stream",
          "name": "stdout",
          "text": [
            "Epoch 1/10 - Train Loss: 1.1257, Val Loss: 1.0040\n",
            "Epoch 2/10 - Train Loss: 1.0026, Val Loss: 1.0032\n",
            "Epoch 3/10 - Train Loss: 1.0020, Val Loss: 1.0022\n",
            "Epoch 4/10 - Train Loss: 1.0018, Val Loss: 1.0005\n",
            "Epoch 5/10 - Train Loss: 0.9997, Val Loss: 1.0020\n",
            "Epoch 6/10 - Train Loss: 0.9994, Val Loss: 1.0028\n",
            "Epoch 7/10 - Train Loss: 0.9986, Val Loss: 1.0024\n",
            "Epoch 8/10 - Train Loss: 0.9994, Val Loss: 1.0043\n",
            "Epoch 9/10 - Train Loss: 1.0003, Val Loss: 1.0035\n"
          ]
        },
        {
          "output_type": "error",
          "ename": "KeyboardInterrupt",
          "evalue": "",
          "traceback": [
            "\u001b[0;31m---------------------------------------------------------------------------\u001b[0m",
            "\u001b[0;31mKeyboardInterrupt\u001b[0m                         Traceback (most recent call last)",
            "\u001b[0;32m<ipython-input-89-ece1719b6d74>\u001b[0m in \u001b[0;36m<cell line: 55>\u001b[0;34m()\u001b[0m\n\u001b[1;32m     53\u001b[0m \u001b[0;34m\u001b[0m\u001b[0m\n\u001b[1;32m     54\u001b[0m \u001b[0;31m# Assuming train_loader and val_loader are defined somewhere\u001b[0m\u001b[0;34m\u001b[0m\u001b[0;34m\u001b[0m\u001b[0m\n\u001b[0;32m---> 55\u001b[0;31m \u001b[0mtrain_losses\u001b[0m\u001b[0;34m,\u001b[0m \u001b[0mval_losses\u001b[0m \u001b[0;34m=\u001b[0m \u001b[0mtrain_ViT\u001b[0m\u001b[0;34m(\u001b[0m\u001b[0mViT_model\u001b[0m\u001b[0;34m,\u001b[0m \u001b[0mtrain_loader\u001b[0m\u001b[0;34m,\u001b[0m \u001b[0mval_loader\u001b[0m\u001b[0;34m,\u001b[0m \u001b[0moptimizer\u001b[0m\u001b[0;34m,\u001b[0m \u001b[0mcriterion\u001b[0m\u001b[0;34m,\u001b[0m \u001b[0mnum_epochs\u001b[0m\u001b[0;34m=\u001b[0m\u001b[0;36m10\u001b[0m\u001b[0;34m)\u001b[0m\u001b[0;34m\u001b[0m\u001b[0;34m\u001b[0m\u001b[0m\n\u001b[0m",
            "\u001b[0;32m<ipython-input-89-ece1719b6d74>\u001b[0m in \u001b[0;36mtrain_ViT\u001b[0;34m(model, train_loader, val_loader, optimizer, criterion, num_epochs)\u001b[0m\n\u001b[1;32m     19\u001b[0m         \u001b[0;32mfor\u001b[0m \u001b[0mimages\u001b[0m \u001b[0;32min\u001b[0m \u001b[0mtrain_loader\u001b[0m\u001b[0;34m:\u001b[0m\u001b[0;34m\u001b[0m\u001b[0;34m\u001b[0m\u001b[0m\n\u001b[1;32m     20\u001b[0m             \u001b[0moptimizer\u001b[0m\u001b[0;34m.\u001b[0m\u001b[0mzero_grad\u001b[0m\u001b[0;34m(\u001b[0m\u001b[0;34m)\u001b[0m  \u001b[0;31m# Zero the gradient buffers\u001b[0m\u001b[0;34m\u001b[0m\u001b[0;34m\u001b[0m\u001b[0m\n\u001b[0;32m---> 21\u001b[0;31m             \u001b[0moutputs\u001b[0m \u001b[0;34m=\u001b[0m \u001b[0mmodel\u001b[0m\u001b[0;34m(\u001b[0m\u001b[0mimages\u001b[0m\u001b[0;34m)\u001b[0m  \u001b[0;31m# Forward pass: compute predicted outputs by the model\u001b[0m\u001b[0;34m\u001b[0m\u001b[0;34m\u001b[0m\u001b[0m\n\u001b[0m\u001b[1;32m     22\u001b[0m             \u001b[0mloss\u001b[0m \u001b[0;34m=\u001b[0m \u001b[0mcriterion\u001b[0m\u001b[0;34m(\u001b[0m\u001b[0moutputs\u001b[0m\u001b[0;34m,\u001b[0m \u001b[0mimages\u001b[0m\u001b[0;34m)\u001b[0m  \u001b[0;31m# Calculate the loss based on the model's output and actual data\u001b[0m\u001b[0;34m\u001b[0m\u001b[0;34m\u001b[0m\u001b[0m\n\u001b[1;32m     23\u001b[0m             \u001b[0mloss\u001b[0m\u001b[0;34m.\u001b[0m\u001b[0mbackward\u001b[0m\u001b[0;34m(\u001b[0m\u001b[0;34m)\u001b[0m  \u001b[0;31m# Backward pass: compute gradient of the loss with respect to model parameters\u001b[0m\u001b[0;34m\u001b[0m\u001b[0;34m\u001b[0m\u001b[0m\n",
            "\u001b[0;32m/usr/local/lib/python3.10/dist-packages/torch/nn/modules/module.py\u001b[0m in \u001b[0;36m_wrapped_call_impl\u001b[0;34m(self, *args, **kwargs)\u001b[0m\n\u001b[1;32m   1509\u001b[0m             \u001b[0;32mreturn\u001b[0m \u001b[0mself\u001b[0m\u001b[0;34m.\u001b[0m\u001b[0m_compiled_call_impl\u001b[0m\u001b[0;34m(\u001b[0m\u001b[0;34m*\u001b[0m\u001b[0margs\u001b[0m\u001b[0;34m,\u001b[0m \u001b[0;34m**\u001b[0m\u001b[0mkwargs\u001b[0m\u001b[0;34m)\u001b[0m  \u001b[0;31m# type: ignore[misc]\u001b[0m\u001b[0;34m\u001b[0m\u001b[0;34m\u001b[0m\u001b[0m\n\u001b[1;32m   1510\u001b[0m         \u001b[0;32melse\u001b[0m\u001b[0;34m:\u001b[0m\u001b[0;34m\u001b[0m\u001b[0;34m\u001b[0m\u001b[0m\n\u001b[0;32m-> 1511\u001b[0;31m             \u001b[0;32mreturn\u001b[0m \u001b[0mself\u001b[0m\u001b[0;34m.\u001b[0m\u001b[0m_call_impl\u001b[0m\u001b[0;34m(\u001b[0m\u001b[0;34m*\u001b[0m\u001b[0margs\u001b[0m\u001b[0;34m,\u001b[0m \u001b[0;34m**\u001b[0m\u001b[0mkwargs\u001b[0m\u001b[0;34m)\u001b[0m\u001b[0;34m\u001b[0m\u001b[0;34m\u001b[0m\u001b[0m\n\u001b[0m\u001b[1;32m   1512\u001b[0m \u001b[0;34m\u001b[0m\u001b[0m\n\u001b[1;32m   1513\u001b[0m     \u001b[0;32mdef\u001b[0m \u001b[0m_call_impl\u001b[0m\u001b[0;34m(\u001b[0m\u001b[0mself\u001b[0m\u001b[0;34m,\u001b[0m \u001b[0;34m*\u001b[0m\u001b[0margs\u001b[0m\u001b[0;34m,\u001b[0m \u001b[0;34m**\u001b[0m\u001b[0mkwargs\u001b[0m\u001b[0;34m)\u001b[0m\u001b[0;34m:\u001b[0m\u001b[0;34m\u001b[0m\u001b[0;34m\u001b[0m\u001b[0m\n",
            "\u001b[0;32m/usr/local/lib/python3.10/dist-packages/torch/nn/modules/module.py\u001b[0m in \u001b[0;36m_call_impl\u001b[0;34m(self, *args, **kwargs)\u001b[0m\n\u001b[1;32m   1518\u001b[0m                 \u001b[0;32mor\u001b[0m \u001b[0m_global_backward_pre_hooks\u001b[0m \u001b[0;32mor\u001b[0m \u001b[0m_global_backward_hooks\u001b[0m\u001b[0;34m\u001b[0m\u001b[0;34m\u001b[0m\u001b[0m\n\u001b[1;32m   1519\u001b[0m                 or _global_forward_hooks or _global_forward_pre_hooks):\n\u001b[0;32m-> 1520\u001b[0;31m             \u001b[0;32mreturn\u001b[0m \u001b[0mforward_call\u001b[0m\u001b[0;34m(\u001b[0m\u001b[0;34m*\u001b[0m\u001b[0margs\u001b[0m\u001b[0;34m,\u001b[0m \u001b[0;34m**\u001b[0m\u001b[0mkwargs\u001b[0m\u001b[0;34m)\u001b[0m\u001b[0;34m\u001b[0m\u001b[0;34m\u001b[0m\u001b[0m\n\u001b[0m\u001b[1;32m   1521\u001b[0m \u001b[0;34m\u001b[0m\u001b[0m\n\u001b[1;32m   1522\u001b[0m         \u001b[0;32mtry\u001b[0m\u001b[0;34m:\u001b[0m\u001b[0;34m\u001b[0m\u001b[0;34m\u001b[0m\u001b[0m\n",
            "\u001b[0;32m<ipython-input-86-87fc739dfdf8>\u001b[0m in \u001b[0;36mforward\u001b[0;34m(self, x)\u001b[0m\n\u001b[1;32m     10\u001b[0m     \u001b[0;32mdef\u001b[0m \u001b[0mforward\u001b[0m\u001b[0;34m(\u001b[0m\u001b[0mself\u001b[0m\u001b[0;34m,\u001b[0m \u001b[0mx\u001b[0m\u001b[0;34m)\u001b[0m\u001b[0;34m:\u001b[0m\u001b[0;34m\u001b[0m\u001b[0;34m\u001b[0m\u001b[0m\n\u001b[1;32m     11\u001b[0m       \u001b[0;31m# Pass input through Transformer encoder\u001b[0m\u001b[0;34m\u001b[0m\u001b[0;34m\u001b[0m\u001b[0m\n\u001b[0;32m---> 12\u001b[0;31m       \u001b[0mx\u001b[0m \u001b[0;34m=\u001b[0m \u001b[0mself\u001b[0m\u001b[0;34m.\u001b[0m\u001b[0mtransformer_encoder\u001b[0m\u001b[0;34m(\u001b[0m\u001b[0mx\u001b[0m\u001b[0;34m)\u001b[0m\u001b[0;34m\u001b[0m\u001b[0;34m\u001b[0m\u001b[0m\n\u001b[0m\u001b[1;32m     13\u001b[0m       \u001b[0;31m# Reshape output to match expected input shape of the decoder\u001b[0m\u001b[0;34m\u001b[0m\u001b[0;34m\u001b[0m\u001b[0m\n\u001b[1;32m     14\u001b[0m       \u001b[0mx\u001b[0m \u001b[0;34m=\u001b[0m \u001b[0mx\u001b[0m\u001b[0;34m.\u001b[0m\u001b[0mview\u001b[0m\u001b[0;34m(\u001b[0m\u001b[0mx\u001b[0m\u001b[0;34m.\u001b[0m\u001b[0msize\u001b[0m\u001b[0;34m(\u001b[0m\u001b[0;36m0\u001b[0m\u001b[0;34m)\u001b[0m\u001b[0;34m,\u001b[0m \u001b[0;36m512\u001b[0m\u001b[0;34m,\u001b[0m \u001b[0;36m8\u001b[0m\u001b[0;34m,\u001b[0m \u001b[0;36m8\u001b[0m\u001b[0;34m)\u001b[0m  \u001b[0;31m# Reshape from [1, 64, 512] to [1, 512, 8, 8]\u001b[0m\u001b[0;34m\u001b[0m\u001b[0;34m\u001b[0m\u001b[0m\n",
            "\u001b[0;32m/usr/local/lib/python3.10/dist-packages/torch/nn/modules/module.py\u001b[0m in \u001b[0;36m_wrapped_call_impl\u001b[0;34m(self, *args, **kwargs)\u001b[0m\n\u001b[1;32m   1509\u001b[0m             \u001b[0;32mreturn\u001b[0m \u001b[0mself\u001b[0m\u001b[0;34m.\u001b[0m\u001b[0m_compiled_call_impl\u001b[0m\u001b[0;34m(\u001b[0m\u001b[0;34m*\u001b[0m\u001b[0margs\u001b[0m\u001b[0;34m,\u001b[0m \u001b[0;34m**\u001b[0m\u001b[0mkwargs\u001b[0m\u001b[0;34m)\u001b[0m  \u001b[0;31m# type: ignore[misc]\u001b[0m\u001b[0;34m\u001b[0m\u001b[0;34m\u001b[0m\u001b[0m\n\u001b[1;32m   1510\u001b[0m         \u001b[0;32melse\u001b[0m\u001b[0;34m:\u001b[0m\u001b[0;34m\u001b[0m\u001b[0;34m\u001b[0m\u001b[0m\n\u001b[0;32m-> 1511\u001b[0;31m             \u001b[0;32mreturn\u001b[0m \u001b[0mself\u001b[0m\u001b[0;34m.\u001b[0m\u001b[0m_call_impl\u001b[0m\u001b[0;34m(\u001b[0m\u001b[0;34m*\u001b[0m\u001b[0margs\u001b[0m\u001b[0;34m,\u001b[0m \u001b[0;34m**\u001b[0m\u001b[0mkwargs\u001b[0m\u001b[0;34m)\u001b[0m\u001b[0;34m\u001b[0m\u001b[0;34m\u001b[0m\u001b[0m\n\u001b[0m\u001b[1;32m   1512\u001b[0m \u001b[0;34m\u001b[0m\u001b[0m\n\u001b[1;32m   1513\u001b[0m     \u001b[0;32mdef\u001b[0m \u001b[0m_call_impl\u001b[0m\u001b[0;34m(\u001b[0m\u001b[0mself\u001b[0m\u001b[0;34m,\u001b[0m \u001b[0;34m*\u001b[0m\u001b[0margs\u001b[0m\u001b[0;34m,\u001b[0m \u001b[0;34m**\u001b[0m\u001b[0mkwargs\u001b[0m\u001b[0;34m)\u001b[0m\u001b[0;34m:\u001b[0m\u001b[0;34m\u001b[0m\u001b[0;34m\u001b[0m\u001b[0m\n",
            "\u001b[0;32m/usr/local/lib/python3.10/dist-packages/torch/nn/modules/module.py\u001b[0m in \u001b[0;36m_call_impl\u001b[0;34m(self, *args, **kwargs)\u001b[0m\n\u001b[1;32m   1518\u001b[0m                 \u001b[0;32mor\u001b[0m \u001b[0m_global_backward_pre_hooks\u001b[0m \u001b[0;32mor\u001b[0m \u001b[0m_global_backward_hooks\u001b[0m\u001b[0;34m\u001b[0m\u001b[0;34m\u001b[0m\u001b[0m\n\u001b[1;32m   1519\u001b[0m                 or _global_forward_hooks or _global_forward_pre_hooks):\n\u001b[0;32m-> 1520\u001b[0;31m             \u001b[0;32mreturn\u001b[0m \u001b[0mforward_call\u001b[0m\u001b[0;34m(\u001b[0m\u001b[0;34m*\u001b[0m\u001b[0margs\u001b[0m\u001b[0;34m,\u001b[0m \u001b[0;34m**\u001b[0m\u001b[0mkwargs\u001b[0m\u001b[0;34m)\u001b[0m\u001b[0;34m\u001b[0m\u001b[0;34m\u001b[0m\u001b[0m\n\u001b[0m\u001b[1;32m   1521\u001b[0m \u001b[0;34m\u001b[0m\u001b[0m\n\u001b[1;32m   1522\u001b[0m         \u001b[0;32mtry\u001b[0m\u001b[0;34m:\u001b[0m\u001b[0;34m\u001b[0m\u001b[0;34m\u001b[0m\u001b[0m\n",
            "\u001b[0;32m<ipython-input-85-02bc7247e0be>\u001b[0m in \u001b[0;36mforward\u001b[0;34m(self, x)\u001b[0m\n\u001b[1;32m     44\u001b[0m       \u001b[0;31m# Apply each Transformer Encoder layer\u001b[0m\u001b[0;34m\u001b[0m\u001b[0;34m\u001b[0m\u001b[0m\n\u001b[1;32m     45\u001b[0m       \u001b[0;32mfor\u001b[0m \u001b[0mlayer\u001b[0m \u001b[0;32min\u001b[0m \u001b[0mself\u001b[0m\u001b[0;34m.\u001b[0m\u001b[0mlayers\u001b[0m\u001b[0;34m:\u001b[0m\u001b[0;34m\u001b[0m\u001b[0;34m\u001b[0m\u001b[0m\n\u001b[0;32m---> 46\u001b[0;31m           \u001b[0mx\u001b[0m \u001b[0;34m=\u001b[0m \u001b[0mlayer\u001b[0m\u001b[0;34m(\u001b[0m\u001b[0mx\u001b[0m\u001b[0;34m)\u001b[0m\u001b[0;34m\u001b[0m\u001b[0;34m\u001b[0m\u001b[0m\n\u001b[0m\u001b[1;32m     47\u001b[0m           \u001b[0;31m#print(\"Layer output shape:\", x.shape)\u001b[0m\u001b[0;34m\u001b[0m\u001b[0;34m\u001b[0m\u001b[0m\n\u001b[1;32m     48\u001b[0m       \u001b[0;32mreturn\u001b[0m \u001b[0mx\u001b[0m\u001b[0;34m\u001b[0m\u001b[0;34m\u001b[0m\u001b[0m\n",
            "\u001b[0;32m/usr/local/lib/python3.10/dist-packages/torch/nn/modules/module.py\u001b[0m in \u001b[0;36m_wrapped_call_impl\u001b[0;34m(self, *args, **kwargs)\u001b[0m\n\u001b[1;32m   1509\u001b[0m             \u001b[0;32mreturn\u001b[0m \u001b[0mself\u001b[0m\u001b[0;34m.\u001b[0m\u001b[0m_compiled_call_impl\u001b[0m\u001b[0;34m(\u001b[0m\u001b[0;34m*\u001b[0m\u001b[0margs\u001b[0m\u001b[0;34m,\u001b[0m \u001b[0;34m**\u001b[0m\u001b[0mkwargs\u001b[0m\u001b[0;34m)\u001b[0m  \u001b[0;31m# type: ignore[misc]\u001b[0m\u001b[0;34m\u001b[0m\u001b[0;34m\u001b[0m\u001b[0m\n\u001b[1;32m   1510\u001b[0m         \u001b[0;32melse\u001b[0m\u001b[0;34m:\u001b[0m\u001b[0;34m\u001b[0m\u001b[0;34m\u001b[0m\u001b[0m\n\u001b[0;32m-> 1511\u001b[0;31m             \u001b[0;32mreturn\u001b[0m \u001b[0mself\u001b[0m\u001b[0;34m.\u001b[0m\u001b[0m_call_impl\u001b[0m\u001b[0;34m(\u001b[0m\u001b[0;34m*\u001b[0m\u001b[0margs\u001b[0m\u001b[0;34m,\u001b[0m \u001b[0;34m**\u001b[0m\u001b[0mkwargs\u001b[0m\u001b[0;34m)\u001b[0m\u001b[0;34m\u001b[0m\u001b[0;34m\u001b[0m\u001b[0m\n\u001b[0m\u001b[1;32m   1512\u001b[0m \u001b[0;34m\u001b[0m\u001b[0m\n\u001b[1;32m   1513\u001b[0m     \u001b[0;32mdef\u001b[0m \u001b[0m_call_impl\u001b[0m\u001b[0;34m(\u001b[0m\u001b[0mself\u001b[0m\u001b[0;34m,\u001b[0m \u001b[0;34m*\u001b[0m\u001b[0margs\u001b[0m\u001b[0;34m,\u001b[0m \u001b[0;34m**\u001b[0m\u001b[0mkwargs\u001b[0m\u001b[0;34m)\u001b[0m\u001b[0;34m:\u001b[0m\u001b[0;34m\u001b[0m\u001b[0;34m\u001b[0m\u001b[0m\n",
            "\u001b[0;32m/usr/local/lib/python3.10/dist-packages/torch/nn/modules/module.py\u001b[0m in \u001b[0;36m_call_impl\u001b[0;34m(self, *args, **kwargs)\u001b[0m\n\u001b[1;32m   1518\u001b[0m                 \u001b[0;32mor\u001b[0m \u001b[0m_global_backward_pre_hooks\u001b[0m \u001b[0;32mor\u001b[0m \u001b[0m_global_backward_hooks\u001b[0m\u001b[0;34m\u001b[0m\u001b[0;34m\u001b[0m\u001b[0m\n\u001b[1;32m   1519\u001b[0m                 or _global_forward_hooks or _global_forward_pre_hooks):\n\u001b[0;32m-> 1520\u001b[0;31m             \u001b[0;32mreturn\u001b[0m \u001b[0mforward_call\u001b[0m\u001b[0;34m(\u001b[0m\u001b[0;34m*\u001b[0m\u001b[0margs\u001b[0m\u001b[0;34m,\u001b[0m \u001b[0;34m**\u001b[0m\u001b[0mkwargs\u001b[0m\u001b[0;34m)\u001b[0m\u001b[0;34m\u001b[0m\u001b[0;34m\u001b[0m\u001b[0m\n\u001b[0m\u001b[1;32m   1521\u001b[0m \u001b[0;34m\u001b[0m\u001b[0m\n\u001b[1;32m   1522\u001b[0m         \u001b[0;32mtry\u001b[0m\u001b[0;34m:\u001b[0m\u001b[0;34m\u001b[0m\u001b[0;34m\u001b[0m\u001b[0m\n",
            "\u001b[0;32m<ipython-input-85-02bc7247e0be>\u001b[0m in \u001b[0;36mforward\u001b[0;34m(self, x)\u001b[0m\n\u001b[1;32m     24\u001b[0m         \u001b[0;31m# MLP layer\u001b[0m\u001b[0;34m\u001b[0m\u001b[0;34m\u001b[0m\u001b[0m\n\u001b[1;32m     25\u001b[0m         \u001b[0mx_res\u001b[0m \u001b[0;34m=\u001b[0m \u001b[0mx\u001b[0m\u001b[0;34m\u001b[0m\u001b[0;34m\u001b[0m\u001b[0m\n\u001b[0;32m---> 26\u001b[0;31m         \u001b[0mx\u001b[0m \u001b[0;34m=\u001b[0m \u001b[0mF\u001b[0m\u001b[0;34m.\u001b[0m\u001b[0mrelu\u001b[0m\u001b[0;34m(\u001b[0m\u001b[0mself\u001b[0m\u001b[0;34m.\u001b[0m\u001b[0mlinear1\u001b[0m\u001b[0;34m(\u001b[0m\u001b[0mx\u001b[0m\u001b[0;34m)\u001b[0m\u001b[0;34m)\u001b[0m\u001b[0;34m\u001b[0m\u001b[0;34m\u001b[0m\u001b[0m\n\u001b[0m\u001b[1;32m     27\u001b[0m         \u001b[0mx\u001b[0m \u001b[0;34m=\u001b[0m \u001b[0mself\u001b[0m\u001b[0;34m.\u001b[0m\u001b[0mdropout2\u001b[0m\u001b[0;34m(\u001b[0m\u001b[0mx\u001b[0m\u001b[0;34m)\u001b[0m\u001b[0;34m\u001b[0m\u001b[0;34m\u001b[0m\u001b[0m\n\u001b[1;32m     28\u001b[0m         \u001b[0mx\u001b[0m \u001b[0;34m=\u001b[0m \u001b[0mself\u001b[0m\u001b[0;34m.\u001b[0m\u001b[0mlinear2\u001b[0m\u001b[0;34m(\u001b[0m\u001b[0mx\u001b[0m\u001b[0;34m)\u001b[0m\u001b[0;34m\u001b[0m\u001b[0;34m\u001b[0m\u001b[0m\n",
            "\u001b[0;32m/usr/local/lib/python3.10/dist-packages/torch/nn/modules/module.py\u001b[0m in \u001b[0;36m_wrapped_call_impl\u001b[0;34m(self, *args, **kwargs)\u001b[0m\n\u001b[1;32m   1509\u001b[0m             \u001b[0;32mreturn\u001b[0m \u001b[0mself\u001b[0m\u001b[0;34m.\u001b[0m\u001b[0m_compiled_call_impl\u001b[0m\u001b[0;34m(\u001b[0m\u001b[0;34m*\u001b[0m\u001b[0margs\u001b[0m\u001b[0;34m,\u001b[0m \u001b[0;34m**\u001b[0m\u001b[0mkwargs\u001b[0m\u001b[0;34m)\u001b[0m  \u001b[0;31m# type: ignore[misc]\u001b[0m\u001b[0;34m\u001b[0m\u001b[0;34m\u001b[0m\u001b[0m\n\u001b[1;32m   1510\u001b[0m         \u001b[0;32melse\u001b[0m\u001b[0;34m:\u001b[0m\u001b[0;34m\u001b[0m\u001b[0;34m\u001b[0m\u001b[0m\n\u001b[0;32m-> 1511\u001b[0;31m             \u001b[0;32mreturn\u001b[0m \u001b[0mself\u001b[0m\u001b[0;34m.\u001b[0m\u001b[0m_call_impl\u001b[0m\u001b[0;34m(\u001b[0m\u001b[0;34m*\u001b[0m\u001b[0margs\u001b[0m\u001b[0;34m,\u001b[0m \u001b[0;34m**\u001b[0m\u001b[0mkwargs\u001b[0m\u001b[0;34m)\u001b[0m\u001b[0;34m\u001b[0m\u001b[0;34m\u001b[0m\u001b[0m\n\u001b[0m\u001b[1;32m   1512\u001b[0m \u001b[0;34m\u001b[0m\u001b[0m\n\u001b[1;32m   1513\u001b[0m     \u001b[0;32mdef\u001b[0m \u001b[0m_call_impl\u001b[0m\u001b[0;34m(\u001b[0m\u001b[0mself\u001b[0m\u001b[0;34m,\u001b[0m \u001b[0;34m*\u001b[0m\u001b[0margs\u001b[0m\u001b[0;34m,\u001b[0m \u001b[0;34m**\u001b[0m\u001b[0mkwargs\u001b[0m\u001b[0;34m)\u001b[0m\u001b[0;34m:\u001b[0m\u001b[0;34m\u001b[0m\u001b[0;34m\u001b[0m\u001b[0m\n",
            "\u001b[0;32m/usr/local/lib/python3.10/dist-packages/torch/nn/modules/module.py\u001b[0m in \u001b[0;36m_call_impl\u001b[0;34m(self, *args, **kwargs)\u001b[0m\n\u001b[1;32m   1518\u001b[0m                 \u001b[0;32mor\u001b[0m \u001b[0m_global_backward_pre_hooks\u001b[0m \u001b[0;32mor\u001b[0m \u001b[0m_global_backward_hooks\u001b[0m\u001b[0;34m\u001b[0m\u001b[0;34m\u001b[0m\u001b[0m\n\u001b[1;32m   1519\u001b[0m                 or _global_forward_hooks or _global_forward_pre_hooks):\n\u001b[0;32m-> 1520\u001b[0;31m             \u001b[0;32mreturn\u001b[0m \u001b[0mforward_call\u001b[0m\u001b[0;34m(\u001b[0m\u001b[0;34m*\u001b[0m\u001b[0margs\u001b[0m\u001b[0;34m,\u001b[0m \u001b[0;34m**\u001b[0m\u001b[0mkwargs\u001b[0m\u001b[0;34m)\u001b[0m\u001b[0;34m\u001b[0m\u001b[0;34m\u001b[0m\u001b[0m\n\u001b[0m\u001b[1;32m   1521\u001b[0m \u001b[0;34m\u001b[0m\u001b[0m\n\u001b[1;32m   1522\u001b[0m         \u001b[0;32mtry\u001b[0m\u001b[0;34m:\u001b[0m\u001b[0;34m\u001b[0m\u001b[0;34m\u001b[0m\u001b[0m\n",
            "\u001b[0;32m/usr/local/lib/python3.10/dist-packages/torch/nn/modules/linear.py\u001b[0m in \u001b[0;36mforward\u001b[0;34m(self, input)\u001b[0m\n\u001b[1;32m    114\u001b[0m \u001b[0;34m\u001b[0m\u001b[0m\n\u001b[1;32m    115\u001b[0m     \u001b[0;32mdef\u001b[0m \u001b[0mforward\u001b[0m\u001b[0;34m(\u001b[0m\u001b[0mself\u001b[0m\u001b[0;34m,\u001b[0m \u001b[0minput\u001b[0m\u001b[0;34m:\u001b[0m \u001b[0mTensor\u001b[0m\u001b[0;34m)\u001b[0m \u001b[0;34m->\u001b[0m \u001b[0mTensor\u001b[0m\u001b[0;34m:\u001b[0m\u001b[0;34m\u001b[0m\u001b[0;34m\u001b[0m\u001b[0m\n\u001b[0;32m--> 116\u001b[0;31m         \u001b[0;32mreturn\u001b[0m \u001b[0mF\u001b[0m\u001b[0;34m.\u001b[0m\u001b[0mlinear\u001b[0m\u001b[0;34m(\u001b[0m\u001b[0minput\u001b[0m\u001b[0;34m,\u001b[0m \u001b[0mself\u001b[0m\u001b[0;34m.\u001b[0m\u001b[0mweight\u001b[0m\u001b[0;34m,\u001b[0m \u001b[0mself\u001b[0m\u001b[0;34m.\u001b[0m\u001b[0mbias\u001b[0m\u001b[0;34m)\u001b[0m\u001b[0;34m\u001b[0m\u001b[0;34m\u001b[0m\u001b[0m\n\u001b[0m\u001b[1;32m    117\u001b[0m \u001b[0;34m\u001b[0m\u001b[0m\n\u001b[1;32m    118\u001b[0m     \u001b[0;32mdef\u001b[0m \u001b[0mextra_repr\u001b[0m\u001b[0;34m(\u001b[0m\u001b[0mself\u001b[0m\u001b[0;34m)\u001b[0m \u001b[0;34m->\u001b[0m \u001b[0mstr\u001b[0m\u001b[0;34m:\u001b[0m\u001b[0;34m\u001b[0m\u001b[0;34m\u001b[0m\u001b[0m\n",
            "\u001b[0;31mKeyboardInterrupt\u001b[0m: "
          ]
        }
      ]
    }
  ]
}