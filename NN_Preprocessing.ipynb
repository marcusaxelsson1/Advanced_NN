{
  "nbformat": 4,
  "nbformat_minor": 0,
  "metadata": {
    "colab": {
      "provenance": [],
      "authorship_tag": "ABX9TyOkAPLaM9Lou/aQsCHgYoze",
      "include_colab_link": true
    },
    "kernelspec": {
      "name": "python3",
      "display_name": "Python 3"
    },
    "language_info": {
      "name": "python"
    }
  },
  "cells": [
    {
      "cell_type": "markdown",
      "metadata": {
        "id": "view-in-github",
        "colab_type": "text"
      },
      "source": [
        "<a href=\"https://colab.research.google.com/github/marcusaxelsson1/Advanced_NN/blob/main/NN_Preprocessing.ipynb\" target=\"_parent\"><img src=\"https://colab.research.google.com/assets/colab-badge.svg\" alt=\"Open In Colab\"/></a>"
      ]
    },
    {
      "cell_type": "code",
      "source": [
        "#!pip install gdown"
      ],
      "metadata": {
        "id": "ycA_k-_S_Bbc"
      },
      "execution_count": null,
      "outputs": []
    },
    {
      "cell_type": "code",
      "source": [
        "# Get the data from google drive\n",
        "!gdown https://drive.google.com/uc?id=1IDUgcoUeonBxx2rASX-_QwV9fhbtqdY8 -O data.zip\n",
        "!unzip data.zip"
      ],
      "metadata": {
        "colab": {
          "base_uri": "https://localhost:8080/"
        },
        "id": "xec1IbO-_x0K",
        "outputId": "26d6e70a-7e19-4b72-beed-46f717b17d22"
      },
      "execution_count": 43,
      "outputs": [
        {
          "output_type": "stream",
          "name": "stdout",
          "text": [
            "Downloading...\n",
            "From (original): https://drive.google.com/uc?id=1IDUgcoUeonBxx2rASX-_QwV9fhbtqdY8\n",
            "From (redirected): https://drive.google.com/uc?id=1IDUgcoUeonBxx2rASX-_QwV9fhbtqdY8&confirm=t&uuid=a64402fc-93bf-44a0-95e2-d5abf130c193\n",
            "To: /content/data.zip\n",
            "100% 2.67G/2.67G [00:26<00:00, 100MB/s]\n",
            "Archive:  data.zip\n",
            "replace CASIA2.0_revised/Au/Au_ani_00001.jpg? [y]es, [n]o, [A]ll, [N]one, [r]ename: "
          ]
        }
      ]
    },
    {
      "cell_type": "code",
      "source": [
        "import torch\n",
        "from torchvision import transforms, datasets\n"
      ],
      "metadata": {
        "id": "afJpEQpo_fka"
      },
      "execution_count": 44,
      "outputs": []
    },
    {
      "cell_type": "code",
      "source": [
        "from PIL import Image\n",
        "import os\n"
      ],
      "metadata": {
        "id": "Onbsdu6NASts"
      },
      "execution_count": 45,
      "outputs": []
    },
    {
      "cell_type": "code",
      "source": [
        "def find_max_min_image_sizes(folder_path):\n",
        "    max_width = max_height = 0\n",
        "    min_width = min_height = float('inf')\n",
        "\n",
        "    for root, dirs, files in os.walk(folder_path):\n",
        "        for file in files:\n",
        "            if file.lower().endswith(('.png', '.jpg', '.jpeg')):\n",
        "                image_path = os.path.join(root, file)\n",
        "                with Image.open(image_path) as img:\n",
        "                    width, height = img.size\n",
        "                    max_width = max(max_width, width)\n",
        "                    max_height = max(max_height, height)\n",
        "                    min_width = min(min_width, width)\n",
        "                    min_height = min(min_height, height)\n",
        "\n",
        "    return (max_width, max_height), (min_width, min_height)\n"
      ],
      "metadata": {
        "id": "EDX5D7OZCLTO"
      },
      "execution_count": 46,
      "outputs": []
    },
    {
      "cell_type": "code",
      "source": [
        "folder_path = '/content/CASIA2.0_revised/Au'\n",
        "max_size, min_size = find_max_min_image_sizes(folder_path)\n",
        "print(f\"Maximum image size: {max_size}\")\n",
        "print(f\"Minimum image size: {min_size}\")"
      ],
      "metadata": {
        "colab": {
          "base_uri": "https://localhost:8080/"
        },
        "id": "fSemYR7OCNUd",
        "outputId": "71ca1766-3337-46d3-b817-7a316c0f7e53"
      },
      "execution_count": 47,
      "outputs": [
        {
          "output_type": "stream",
          "name": "stdout",
          "text": [
            "Maximum image size: (900, 901)\n",
            "Minimum image size: (160, 160)\n"
          ]
        }
      ]
    },
    {
      "cell_type": "code",
      "source": [
        "size = 400\n",
        "def count_small_images(folder_path, size):\n",
        "    count = 0  # Initialize counter\n",
        "\n",
        "    for root, dirs, files in os.walk(folder_path):\n",
        "        for file in files:\n",
        "            if file.lower().endswith(('.png', '.jpg', '.jpeg', \".tif\",\".bmp\")):\n",
        "                image_path = os.path.join(root, file)\n",
        "                with Image.open(image_path) as img:\n",
        "                    width, height = img.size\n",
        "                    if width <= size and height <= size:\n",
        "                        count += 1\n",
        "\n",
        "    return count\n"
      ],
      "metadata": {
        "id": "pzxFkH-lCUi9"
      },
      "execution_count": 50,
      "outputs": []
    },
    {
      "cell_type": "code",
      "source": [
        "folder_path = '/content/CASIA2.0_revised/Au'\n",
        "large_images_count = count_small_images(folder_path, size)\n",
        "print(f\"Number of images with both width and height under {size}: {large_images_count}\")\n"
      ],
      "metadata": {
        "colab": {
          "base_uri": "https://localhost:8080/"
        },
        "id": "se09mxtzENFO",
        "outputId": "10d5f69c-60e5-4f99-cde0-df1bd037fbb6"
      },
      "execution_count": 51,
      "outputs": [
        {
          "output_type": "stream",
          "name": "stdout",
          "text": [
            "Number of images with both width and height under 400: 6475\n"
          ]
        }
      ]
    },
    {
      "cell_type": "code",
      "source": [
        "def remove_large_images(folder_path):\n",
        "    removed_count = 0  # Initialize counter for removed images\n",
        "\n",
        "    for root, dirs, files in os.walk(folder_path):\n",
        "        for file in files:\n",
        "            if file.lower().endswith(('.png', '.jpg', '.jpeg')):\n",
        "                image_path = os.path.join(root, file)\n",
        "                with Image.open(image_path) as img:\n",
        "                    width, height = img.size\n",
        "                    if width > 400 or height > 400:  # Changed condition to check for larger than 400\n",
        "                        os.remove(image_path)\n",
        "                        removed_count += 1\n",
        "\n",
        "    return removed_count"
      ],
      "metadata": {
        "id": "SHH9kH4aEW3v"
      },
      "execution_count": 48,
      "outputs": []
    },
    {
      "cell_type": "code",
      "source": [
        "folder_path = '/content/CASIA2.0_revised'\n",
        "removed_images_count = remove_large_images(folder_path)\n",
        "print(f\"Number of images removed because either width or height was over 400: {removed_images_count}\")"
      ],
      "metadata": {
        "colab": {
          "base_uri": "https://localhost:8080/"
        },
        "id": "xmf2JCKlJPQ0",
        "outputId": "5184f0ea-564a-4c49-8a49-fb63b69c7f55"
      },
      "execution_count": 49,
      "outputs": [
        {
          "output_type": "stream",
          "name": "stdout",
          "text": [
            "Number of images removed because either width or height was over 400: 1625\n"
          ]
        }
      ]
    },
    {
      "cell_type": "code",
      "source": [
        "folder_path = 'CASIA2.0_revised/Au/'\n",
        "\n",
        "# Get the list of files in the folder\n",
        "image_files = os.listdir(folder_path)"
      ],
      "metadata": {
        "id": "zi9ekW4UJTt0"
      },
      "execution_count": 52,
      "outputs": []
    },
    {
      "cell_type": "code",
      "source": [
        "len(image_files)"
      ],
      "metadata": {
        "colab": {
          "base_uri": "https://localhost:8080/"
        },
        "id": "YCn41ybQKrHU",
        "outputId": "890fce32-b23a-4c06-f872-9951bffd1c7f"
      },
      "execution_count": 53,
      "outputs": [
        {
          "output_type": "execute_result",
          "data": {
            "text/plain": [
              "6529"
            ]
          },
          "metadata": {},
          "execution_count": 53
        }
      ]
    },
    {
      "cell_type": "code",
      "source": [],
      "metadata": {
        "id": "YNyWFDHgKvwr"
      },
      "execution_count": null,
      "outputs": []
    }
  ]
}